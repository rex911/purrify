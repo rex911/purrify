{
 "cells": [
  {
   "cell_type": "code",
   "execution_count": 111,
   "metadata": {
    "collapsed": true
   },
   "outputs": [],
   "source": [
    "import pronouncing"
   ]
  },
  {
   "cell_type": "code",
   "execution_count": 122,
   "metadata": {
    "collapsed": true
   },
   "outputs": [],
   "source": [
    "purrifiers = ['cat', 'purr', 'fur', 'paw', 'meow', 'mew', 'kitty', 'feline']"
   ]
  },
  {
   "cell_type": "code",
   "execution_count": 113,
   "metadata": {
    "collapsed": true
   },
   "outputs": [],
   "source": [
    "import re\n",
    "\n",
    "def remove_stress(phone):\n",
    "    return re.sub('\\d', '', phone)"
   ]
  },
  {
   "cell_type": "code",
   "execution_count": 114,
   "metadata": {
    "collapsed": true
   },
   "outputs": [],
   "source": [
    "purrifier_phones = {}"
   ]
  },
  {
   "cell_type": "code",
   "execution_count": 115,
   "metadata": {
    "collapsed": false
   },
   "outputs": [],
   "source": [
    "for i in purrifiers:\n",
    "    purrifier_phones[remove_stress(pronouncing.phones_for_word(i)[0])] = i"
   ]
  },
  {
   "cell_type": "code",
   "execution_count": 116,
   "metadata": {
    "collapsed": false
   },
   "outputs": [
    {
     "data": {
      "text/plain": [
       "{u'F ER': 'fur',\n",
       " u'K AE T': 'cat',\n",
       " u'K IH T IY': 'kitty',\n",
       " u'M IY AW': 'meow',\n",
       " u'M Y UW': 'mew',\n",
       " u'P AO': 'paw',\n",
       " u'P ER': 'purr'}"
      ]
     },
     "execution_count": 116,
     "metadata": {},
     "output_type": "execute_result"
    }
   ],
   "source": [
    "purrifier_phones"
   ]
  },
  {
   "cell_type": "code",
   "execution_count": 117,
   "metadata": {
    "collapsed": true
   },
   "outputs": [],
   "source": [
    "from hyphen import Hyphenator\n",
    "\n",
    "h_en = Hyphenator()\n",
    "\n",
    "def get_syllables(token):\n",
    "    syllables = h_en.syllables(token)\n",
    "    if len(syllables) > 0:\n",
    "        return syllables\n",
    "    return [token]"
   ]
  },
  {
   "cell_type": "code",
   "execution_count": 118,
   "metadata": {
    "collapsed": false
   },
   "outputs": [],
   "source": [
    "from nltk.tokenize import word_tokenize\n",
    "from nltk.tokenize.moses import MosesDetokenizer\n",
    "\n",
    "detokenizer = MosesDetokenizer()\n",
    "\n",
    "def purrifer(text):\n",
    "    tokens = word_tokenize(text.lower())\n",
    "    syllables_tokens = [get_syllables(token) for token in tokens]\n",
    "    new_tokens = []\n",
    "    for syllables in syllables_tokens:\n",
    "        for [i, syllable] in enumerate(syllables):\n",
    "            try:\n",
    "                phones = remove_stress(pronouncing.phones_for_word(syllable)[0])\n",
    "            except IndexError:\n",
    "                continue\n",
    "            if phones in purrifier_phones:\n",
    "                syllables[i] = purrifier_phones[phones]\n",
    "        new_tokens.append(''.join(syllables))\n",
    "    return detokenizer.detokenize(new_tokens, return_str=True)"
   ]
  },
  {
   "cell_type": "code",
   "execution_count": 123,
   "metadata": {
    "collapsed": false
   },
   "outputs": [],
   "source": [
    "input_text = u\"\"\"\n",
    "Hi guys this is the first version of the cat text converter, calling it \"purrify\" for now. It's probably buggy and not sensitive at the moment. Trying to make it perfect.\n",
    "\"\"\""
   ]
  },
  {
   "cell_type": "code",
   "execution_count": 124,
   "metadata": {
    "collapsed": false,
    "scrolled": true
   },
   "outputs": [
    {
     "name": "stdout",
     "output_type": "stream",
     "text": [
      "\n",
      "Hi guys this is the first version of the cat text converter, calling it \"purrify\" for now. It's probably buggy and not sensitive at the moment. Trying to make it perfect.\n",
      "\n"
     ]
    }
   ],
   "source": [
    "print input_text"
   ]
  },
  {
   "cell_type": "code",
   "execution_count": 125,
   "metadata": {
    "collapsed": false
   },
   "outputs": [
    {
     "name": "stdout",
     "output_type": "stream",
     "text": [
      "hi guys this is the first version of the cat text converter, calling it ``purrify ''for now. it's probably buggy and not sensitive at the moment. trying to make it purrfect.\n"
     ]
    }
   ],
   "source": [
    "print purrifer(input_text)"
   ]
  }
 ],
 "metadata": {
  "kernelspec": {
   "display_name": "Python 2",
   "language": "python",
   "name": "python2"
  },
  "language_info": {
   "codemirror_mode": {
    "name": "ipython",
    "version": 2
   },
   "file_extension": ".py",
   "mimetype": "text/x-python",
   "name": "python",
   "nbconvert_exporter": "python",
   "pygments_lexer": "ipython2",
   "version": "2.7.11"
  }
 },
 "nbformat": 4,
 "nbformat_minor": 2
}
